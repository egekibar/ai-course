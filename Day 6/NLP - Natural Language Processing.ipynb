{
 "cells": [
  {
   "metadata": {},
   "cell_type": "markdown",
   "source": "# Natural Language Procressing",
   "id": "922e205443e9f78e"
  },
  {
   "cell_type": "code",
   "id": "initial_id",
   "metadata": {
    "collapsed": true,
    "ExecuteTime": {
     "end_time": "2024-07-20T09:37:55.578932Z",
     "start_time": "2024-07-20T09:37:55.576721Z"
    }
   },
   "source": "import nltk",
   "outputs": [],
   "execution_count": 881
  },
  {
   "metadata": {
    "ExecuteTime": {
     "end_time": "2024-07-20T09:37:56.519253Z",
     "start_time": "2024-07-20T09:37:56.515309Z"
    }
   },
   "cell_type": "code",
   "source": [
    "nltk.download('punkt')\n",
    "nltk.download('wordnet')\n",
    "nltk.download('averaged_perceptron_tagger')"
   ],
   "id": "dba3c0a41b424f2f",
   "outputs": [
    {
     "name": "stderr",
     "output_type": "stream",
     "text": [
      "[nltk_data] Downloading package punkt to /Users/egekibar/nltk_data...\n",
      "[nltk_data]   Package punkt is already up-to-date!\n",
      "[nltk_data] Downloading package wordnet to\n",
      "[nltk_data]     /Users/egekibar/nltk_data...\n",
      "[nltk_data]   Package wordnet is already up-to-date!\n",
      "[nltk_data] Downloading package averaged_perceptron_tagger to\n",
      "[nltk_data]     /Users/egekibar/nltk_data...\n",
      "[nltk_data]   Package averaged_perceptron_tagger is already up-to-\n",
      "[nltk_data]       date!\n"
     ]
    },
    {
     "data": {
      "text/plain": [
       "True"
      ]
     },
     "execution_count": 882,
     "metadata": {},
     "output_type": "execute_result"
    }
   ],
   "execution_count": 882
  },
  {
   "metadata": {
    "ExecuteTime": {
     "end_time": "2024-07-20T09:37:56.601252Z",
     "start_time": "2024-07-20T09:37:56.599337Z"
    }
   },
   "cell_type": "code",
   "source": "text = \"Yaylaya gitmişti yayla zamanı, Gülizar döndü de Döndü dönmedi\"",
   "id": "8a59f415f8597a88",
   "outputs": [],
   "execution_count": 883
  },
  {
   "metadata": {
    "ExecuteTime": {
     "end_time": "2024-07-20T09:37:56.675963Z",
     "start_time": "2024-07-20T09:37:56.673359Z"
    }
   },
   "cell_type": "code",
   "source": "text.split() # tokenize yaptık",
   "id": "2913bf6efec41f85",
   "outputs": [
    {
     "data": {
      "text/plain": [
       "['Yaylaya',\n",
       " 'gitmişti',\n",
       " 'yayla',\n",
       " 'zamanı,',\n",
       " 'Gülizar',\n",
       " 'döndü',\n",
       " 'de',\n",
       " 'Döndü',\n",
       " 'dönmedi']"
      ]
     },
     "execution_count": 884,
     "metadata": {},
     "output_type": "execute_result"
    }
   ],
   "execution_count": 884
  },
  {
   "metadata": {
    "ExecuteTime": {
     "end_time": "2024-07-20T09:37:56.746210Z",
     "start_time": "2024-07-20T09:37:56.744087Z"
    }
   },
   "cell_type": "code",
   "source": "from nltk.tokenize import sent_tokenize",
   "id": "e88c40373844f497",
   "outputs": [],
   "execution_count": 885
  },
  {
   "metadata": {
    "ExecuteTime": {
     "end_time": "2024-07-20T09:37:56.820590Z",
     "start_time": "2024-07-20T09:37:56.818796Z"
    }
   },
   "cell_type": "code",
   "source": "cumle = \"Merhaba, benim adım Baki Ege. Yapay zeka öğreniyorum.\"",
   "id": "178f38efe4eab40c",
   "outputs": [],
   "execution_count": 886
  },
  {
   "metadata": {
    "ExecuteTime": {
     "end_time": "2024-07-20T09:37:56.890289Z",
     "start_time": "2024-07-20T09:37:56.887432Z"
    }
   },
   "cell_type": "code",
   "source": "sent_tokenize(cumle)",
   "id": "6a827aa5245595a8",
   "outputs": [
    {
     "data": {
      "text/plain": [
       "['Merhaba, benim adım Baki Ege.', 'Yapay zeka öğreniyorum.']"
      ]
     },
     "execution_count": 887,
     "metadata": {},
     "output_type": "execute_result"
    }
   ],
   "execution_count": 887
  },
  {
   "metadata": {
    "ExecuteTime": {
     "end_time": "2024-07-20T09:37:56.975801Z",
     "start_time": "2024-07-20T09:37:56.973781Z"
    }
   },
   "cell_type": "code",
   "source": "from nltk.tokenize import word_tokenize  ",
   "id": "538294d0166b5223",
   "outputs": [],
   "execution_count": 888
  },
  {
   "metadata": {
    "ExecuteTime": {
     "end_time": "2024-07-20T09:37:57.041342Z",
     "start_time": "2024-07-20T09:37:57.038223Z"
    }
   },
   "cell_type": "code",
   "source": "word_tokenize(cumle)",
   "id": "6be5453b9d275913",
   "outputs": [
    {
     "data": {
      "text/plain": [
       "['Merhaba',\n",
       " ',',\n",
       " 'benim',\n",
       " 'adım',\n",
       " 'Baki',\n",
       " 'Ege',\n",
       " '.',\n",
       " 'Yapay',\n",
       " 'zeka',\n",
       " 'öğreniyorum',\n",
       " '.']"
      ]
     },
     "execution_count": 889,
     "metadata": {},
     "output_type": "execute_result"
    }
   ],
   "execution_count": 889
  },
  {
   "metadata": {
    "ExecuteTime": {
     "end_time": "2024-07-20T09:37:57.188148Z",
     "start_time": "2024-07-20T09:37:57.186086Z"
    }
   },
   "cell_type": "code",
   "source": "from nltk import TreebankWordTokenizer",
   "id": "ae83d8ed57f68a8",
   "outputs": [],
   "execution_count": 890
  },
  {
   "metadata": {
    "ExecuteTime": {
     "end_time": "2024-07-20T09:37:57.251224Z",
     "start_time": "2024-07-20T09:37:57.248502Z"
    }
   },
   "cell_type": "code",
   "source": "TreebankWordTokenizer().tokenize(cumle)",
   "id": "e2b0810e1831e5b3",
   "outputs": [
    {
     "data": {
      "text/plain": [
       "['Merhaba',\n",
       " ',',\n",
       " 'benim',\n",
       " 'adım',\n",
       " 'Baki',\n",
       " 'Ege.',\n",
       " 'Yapay',\n",
       " 'zeka',\n",
       " 'öğreniyorum',\n",
       " '.']"
      ]
     },
     "execution_count": 891,
     "metadata": {},
     "output_type": "execute_result"
    }
   ],
   "execution_count": 891
  },
  {
   "metadata": {
    "ExecuteTime": {
     "end_time": "2024-07-20T09:37:57.360550Z",
     "start_time": "2024-07-20T09:37:57.358551Z"
    }
   },
   "cell_type": "code",
   "source": "from nltk import WordPunctTokenizer",
   "id": "a752ecada3ff496d",
   "outputs": [],
   "execution_count": 892
  },
  {
   "metadata": {
    "ExecuteTime": {
     "end_time": "2024-07-20T09:37:57.431224Z",
     "start_time": "2024-07-20T09:37:57.428372Z"
    }
   },
   "cell_type": "code",
   "source": "WordPunctTokenizer().tokenize(cumle)",
   "id": "4bd8acfe97d5a57e",
   "outputs": [
    {
     "data": {
      "text/plain": [
       "['Merhaba',\n",
       " ',',\n",
       " 'benim',\n",
       " 'adım',\n",
       " 'Baki',\n",
       " 'Ege',\n",
       " '.',\n",
       " 'Yapay',\n",
       " 'zeka',\n",
       " 'öğreniyorum',\n",
       " '.']"
      ]
     },
     "execution_count": 893,
     "metadata": {},
     "output_type": "execute_result"
    }
   ],
   "execution_count": 893
  },
  {
   "metadata": {
    "ExecuteTime": {
     "end_time": "2024-07-20T09:37:57.508979Z",
     "start_time": "2024-07-20T09:37:57.506704Z"
    }
   },
   "cell_type": "code",
   "source": "from nltk import BlanklineTokenizer",
   "id": "4874f7943b86e141",
   "outputs": [],
   "execution_count": 894
  },
  {
   "metadata": {
    "ExecuteTime": {
     "end_time": "2024-07-20T09:37:57.613750Z",
     "start_time": "2024-07-20T09:37:57.611121Z"
    }
   },
   "cell_type": "code",
   "source": [
    "BlanklineTokenizer().tokenize('''\n",
    "Merhaba hocam\n",
    "\n",
    "Sınavdan 99 aldım 100 bekliyordum\n",
    "\n",
    "görsümek üzere\n",
    "\n",
    "''')"
   ],
   "id": "7f99c11f937bd145",
   "outputs": [
    {
     "data": {
      "text/plain": [
       "['\\nMerhaba hocam', 'Sınavdan 99 aldım 100 bekliyordum', 'görsümek üzere']"
      ]
     },
     "execution_count": 895,
     "metadata": {},
     "output_type": "execute_result"
    }
   ],
   "execution_count": 895
  },
  {
   "metadata": {
    "ExecuteTime": {
     "end_time": "2024-07-20T09:37:57.691218Z",
     "start_time": "2024-07-20T09:37:57.689322Z"
    }
   },
   "cell_type": "code",
   "source": "from nltk import RegexpTokenizer",
   "id": "ecea30010fed844f",
   "outputs": [],
   "execution_count": 896
  },
  {
   "metadata": {
    "ExecuteTime": {
     "end_time": "2024-07-20T09:37:57.755865Z",
     "start_time": "2024-07-20T09:37:57.753153Z"
    }
   },
   "cell_type": "code",
   "source": "RegexpTokenizer('[A-Z]\\w+').tokenize(\"She secures 90.56% in class X. She is a mertiorius student\")",
   "id": "725a0394ff79ef2f",
   "outputs": [
    {
     "data": {
      "text/plain": [
       "['She', 'She']"
      ]
     },
     "execution_count": 897,
     "metadata": {},
     "output_type": "execute_result"
    }
   ],
   "execution_count": 897
  },
  {
   "metadata": {},
   "cell_type": "markdown",
   "source": [
    "#### Stemma & Lemma \n",
    "\n",
    "Ekleri kaldirip kökleri bulma"
   ],
   "id": "93f5940652a479a4"
  },
  {
   "metadata": {
    "ExecuteTime": {
     "end_time": "2024-07-20T09:37:57.841879Z",
     "start_time": "2024-07-20T09:37:57.840086Z"
    }
   },
   "cell_type": "code",
   "source": "from nltk.stem import PorterStemmer ",
   "id": "f34a7da0d5434cd4",
   "outputs": [],
   "execution_count": 898
  },
  {
   "metadata": {
    "ExecuteTime": {
     "end_time": "2024-07-20T09:37:57.910761Z",
     "start_time": "2024-07-20T09:37:57.908647Z"
    }
   },
   "cell_type": "code",
   "source": "ps = PorterStemmer()",
   "id": "ef406921d53f9cdf",
   "outputs": [],
   "execution_count": 899
  },
  {
   "metadata": {
    "ExecuteTime": {
     "end_time": "2024-07-20T09:37:58.029151Z",
     "start_time": "2024-07-20T09:37:58.026818Z"
    }
   },
   "cell_type": "code",
   "source": "ps.stem('running')",
   "id": "db73085f0fe29740",
   "outputs": [
    {
     "data": {
      "text/plain": [
       "'run'"
      ]
     },
     "execution_count": 900,
     "metadata": {},
     "output_type": "execute_result"
    }
   ],
   "execution_count": 900
  },
  {
   "metadata": {
    "ExecuteTime": {
     "end_time": "2024-07-20T09:37:58.064586Z",
     "start_time": "2024-07-20T09:37:58.061640Z"
    }
   },
   "cell_type": "code",
   "source": "ps.stem('runs')",
   "id": "fd430771b2efdee4",
   "outputs": [
    {
     "data": {
      "text/plain": [
       "'run'"
      ]
     },
     "execution_count": 901,
     "metadata": {},
     "output_type": "execute_result"
    }
   ],
   "execution_count": 901
  },
  {
   "metadata": {
    "ExecuteTime": {
     "end_time": "2024-07-20T09:37:58.185418Z",
     "start_time": "2024-07-20T09:37:58.183307Z"
    }
   },
   "cell_type": "code",
   "source": "words = ['run', 'runner', 'running', 'ran', 'runs', 'easily', 'fairly']",
   "id": "9ad015dcd87a50ec",
   "outputs": [],
   "execution_count": 902
  },
  {
   "metadata": {
    "ExecuteTime": {
     "end_time": "2024-07-20T09:37:58.222777Z",
     "start_time": "2024-07-20T09:37:58.220753Z"
    }
   },
   "cell_type": "code",
   "source": "kokler = [ps.stem(word) for word in words] # list comprehension (küçük döngü)",
   "id": "973c79ccb8bc4f7f",
   "outputs": [],
   "execution_count": 903
  },
  {
   "metadata": {
    "ExecuteTime": {
     "end_time": "2024-07-20T09:37:58.308528Z",
     "start_time": "2024-07-20T09:37:58.305947Z"
    }
   },
   "cell_type": "code",
   "source": "kokler",
   "id": "3fdb70667db0a314",
   "outputs": [
    {
     "data": {
      "text/plain": [
       "['run', 'runner', 'run', 'ran', 'run', 'easili', 'fairli']"
      ]
     },
     "execution_count": 904,
     "metadata": {},
     "output_type": "execute_result"
    }
   ],
   "execution_count": 904
  },
  {
   "metadata": {
    "ExecuteTime": {
     "end_time": "2024-07-20T09:37:58.372589Z",
     "start_time": "2024-07-20T09:37:58.370632Z"
    }
   },
   "cell_type": "code",
   "source": "from nltk.stem import WordNetLemmatizer",
   "id": "18cc75c64c58f9ca",
   "outputs": [],
   "execution_count": 905
  },
  {
   "metadata": {
    "ExecuteTime": {
     "end_time": "2024-07-20T09:37:58.450221Z",
     "start_time": "2024-07-20T09:37:58.446774Z"
    }
   },
   "cell_type": "code",
   "source": "wnl = WordNetLemmatizer()",
   "id": "77f6c9d438c37e17",
   "outputs": [],
   "execution_count": 906
  },
  {
   "metadata": {
    "ExecuteTime": {
     "end_time": "2024-07-20T09:37:58.520746Z",
     "start_time": "2024-07-20T09:37:58.517840Z"
    }
   },
   "cell_type": "code",
   "source": "wnl.lemmatize('working')",
   "id": "179efe994be5a354",
   "outputs": [
    {
     "data": {
      "text/plain": [
       "'working'"
      ]
     },
     "execution_count": 907,
     "metadata": {},
     "output_type": "execute_result"
    }
   ],
   "execution_count": 907
  },
  {
   "metadata": {
    "ExecuteTime": {
     "end_time": "2024-07-20T09:37:58.606716Z",
     "start_time": "2024-07-20T09:37:58.603767Z"
    }
   },
   "cell_type": "code",
   "source": "wnl.lemmatize('working', pos='v') # POS = Part of Speech",
   "id": "84aa58a6f306d530",
   "outputs": [
    {
     "data": {
      "text/plain": [
       "'work'"
      ]
     },
     "execution_count": 908,
     "metadata": {},
     "output_type": "execute_result"
    }
   ],
   "execution_count": 908
  },
  {
   "metadata": {
    "ExecuteTime": {
     "end_time": "2024-07-20T09:37:58.645365Z",
     "start_time": "2024-07-20T09:37:58.642342Z"
    }
   },
   "cell_type": "code",
   "source": "wnl.lemmatize('took', pos='v')",
   "id": "91cc2c480f32c81c",
   "outputs": [
    {
     "data": {
      "text/plain": [
       "'take'"
      ]
     },
     "execution_count": 909,
     "metadata": {},
     "output_type": "execute_result"
    }
   ],
   "execution_count": 909
  },
  {
   "metadata": {
    "ExecuteTime": {
     "end_time": "2024-07-20T09:37:58.763875Z",
     "start_time": "2024-07-20T09:37:58.762336Z"
    }
   },
   "cell_type": "code",
   "source": "# Part of Speech (POS) Tagging Adjective, Adverb, conjunction and, or preposition",
   "id": "bd4531b5d4aa2512",
   "outputs": [],
   "execution_count": 910
  },
  {
   "metadata": {
    "ExecuteTime": {
     "end_time": "2024-07-20T09:37:58.833188Z",
     "start_time": "2024-07-20T09:37:58.828856Z"
    }
   },
   "cell_type": "code",
   "source": "nltk.pos_tag(word_tokenize(\"I am learning NLP\")) ",
   "id": "ce88ed0043a535",
   "outputs": [
    {
     "data": {
      "text/plain": [
       "[('I', 'PRP'), ('am', 'VBP'), ('learning', 'VBG'), ('NLP', 'NNP')]"
      ]
     },
     "execution_count": 911,
     "metadata": {},
     "output_type": "execute_result"
    }
   ],
   "execution_count": 911
  },
  {
   "metadata": {
    "ExecuteTime": {
     "end_time": "2024-07-20T09:37:58.912248Z",
     "start_time": "2024-07-20T09:37:58.910590Z"
    }
   },
   "cell_type": "code",
   "source": [
    "# pip install autocorrect \n",
    "# Yazoım hatası düzeltme paketi"
   ],
   "id": "b86aaa4c9984cf25",
   "outputs": [],
   "execution_count": 912
  },
  {
   "metadata": {
    "ExecuteTime": {
     "end_time": "2024-07-20T09:37:59.003882Z",
     "start_time": "2024-07-20T09:37:59.001955Z"
    }
   },
   "cell_type": "code",
   "source": "from autocorrect import Speller",
   "id": "2d483c7ba6c10db2",
   "outputs": [],
   "execution_count": 913
  },
  {
   "metadata": {
    "ExecuteTime": {
     "end_time": "2024-07-20T09:37:59.087625Z",
     "start_time": "2024-07-20T09:37:59.051946Z"
    }
   },
   "cell_type": "code",
   "source": "spell = Speller(lang='en')",
   "id": "9335d4052c1229c8",
   "outputs": [],
   "execution_count": 914
  },
  {
   "metadata": {
    "ExecuteTime": {
     "end_time": "2024-07-20T09:37:59.152444Z",
     "start_time": "2024-07-20T09:37:59.122930Z"
    }
   },
   "cell_type": "code",
   "source": "spell('my nammme is Ege')",
   "id": "3bf041c982461111",
   "outputs": [
    {
     "data": {
      "text/plain": [
       "'my name is Age'"
      ]
     },
     "execution_count": 915,
     "metadata": {},
     "output_type": "execute_result"
    }
   ],
   "execution_count": 915
  },
  {
   "metadata": {
    "ExecuteTime": {
     "end_time": "2024-07-20T09:37:59.232945Z",
     "start_time": "2024-07-20T09:37:59.230837Z"
    }
   },
   "cell_type": "code",
   "source": "from textblob import TextBlob",
   "id": "58f695d45b5a5d1c",
   "outputs": [],
   "execution_count": 916
  },
  {
   "metadata": {
    "ExecuteTime": {
     "end_time": "2024-07-20T09:37:59.254263Z",
     "start_time": "2024-07-20T09:37:59.252255Z"
    }
   },
   "cell_type": "code",
   "source": "text = TextBlob(\"I am lerning NLP\")",
   "id": "42fb87f9dc95933",
   "outputs": [],
   "execution_count": 917
  },
  {
   "metadata": {
    "ExecuteTime": {
     "end_time": "2024-07-20T09:37:59.371599Z",
     "start_time": "2024-07-20T09:37:59.347932Z"
    }
   },
   "cell_type": "code",
   "source": "text.correct()",
   "id": "156164e9a9e7b307",
   "outputs": [
    {
     "data": {
      "text/plain": [
       "TextBlob(\"I am leaning NLP\")"
      ]
     },
     "execution_count": 918,
     "metadata": {},
     "output_type": "execute_result"
    }
   ],
   "execution_count": 918
  },
  {
   "metadata": {
    "ExecuteTime": {
     "end_time": "2024-07-20T09:37:59.431256Z",
     "start_time": "2024-07-20T09:37:59.429490Z"
    }
   },
   "cell_type": "code",
   "source": "from langdetect import detect",
   "id": "f4285d5e99bfdcc4",
   "outputs": [],
   "execution_count": 919
  },
  {
   "metadata": {
    "ExecuteTime": {
     "end_time": "2024-07-20T09:37:59.473948Z",
     "start_time": "2024-07-20T09:37:59.465346Z"
    }
   },
   "cell_type": "code",
   "source": "detect(\"I am learning NLP\")",
   "id": "1dd2d43d25d4f8e2",
   "outputs": [
    {
     "data": {
      "text/plain": [
       "'en'"
      ]
     },
     "execution_count": 920,
     "metadata": {},
     "output_type": "execute_result"
    }
   ],
   "execution_count": 920
  },
  {
   "metadata": {
    "ExecuteTime": {
     "end_time": "2024-07-20T09:37:59.607220Z",
     "start_time": "2024-07-20T09:37:59.601732Z"
    }
   },
   "cell_type": "code",
   "source": "detect(\"Ben yapay zeka öğreniyorum\")",
   "id": "7471a598e09046af",
   "outputs": [
    {
     "data": {
      "text/plain": [
       "'tr'"
      ]
     },
     "execution_count": 921,
     "metadata": {},
     "output_type": "execute_result"
    }
   ],
   "execution_count": 921
  },
  {
   "metadata": {
    "ExecuteTime": {
     "end_time": "2024-07-20T09:37:59.618933Z",
     "start_time": "2024-07-20T09:37:59.614688Z"
    }
   },
   "cell_type": "code",
   "source": "detect(\"ich bin in der Türkei\")",
   "id": "78940805364b1021",
   "outputs": [
    {
     "data": {
      "text/plain": [
       "'de'"
      ]
     },
     "execution_count": 922,
     "metadata": {},
     "output_type": "execute_result"
    }
   ],
   "execution_count": 922
  },
  {
   "metadata": {
    "ExecuteTime": {
     "end_time": "2024-07-20T09:37:59.711172Z",
     "start_time": "2024-07-20T09:37:59.709246Z"
    }
   },
   "cell_type": "code",
   "source": [
    "from textblob import TextBlob\n",
    "from googletrans import Translator"
   ],
   "id": "1d3e754a69f743c2",
   "outputs": [],
   "execution_count": 923
  },
  {
   "metadata": {
    "ExecuteTime": {
     "end_time": "2024-07-20T09:37:59.845267Z",
     "start_time": "2024-07-20T09:37:59.843407Z"
    }
   },
   "cell_type": "code",
   "source": "blob = TextBlob(\"I am learning NLP\")",
   "id": "2fc88d4fb21e0f85",
   "outputs": [],
   "execution_count": 924
  },
  {
   "metadata": {
    "ExecuteTime": {
     "end_time": "2024-07-20T09:38:00.089512Z",
     "start_time": "2024-07-20T09:37:59.883334Z"
    }
   },
   "cell_type": "code",
   "source": "translate = Translator().translate(blob.string, src='en', dest='tr')",
   "id": "919c3c5ab7232fec",
   "outputs": [],
   "execution_count": 925
  },
  {
   "metadata": {
    "ExecuteTime": {
     "end_time": "2024-07-20T09:38:00.093402Z",
     "start_time": "2024-07-20T09:38:00.090801Z"
    }
   },
   "cell_type": "code",
   "source": "translate.text",
   "id": "1942e9ef018e58a1",
   "outputs": [
    {
     "data": {
      "text/plain": [
       "'NLP öğreniyorum'"
      ]
     },
     "execution_count": 926,
     "metadata": {},
     "output_type": "execute_result"
    }
   ],
   "execution_count": 926
  },
  {
   "metadata": {},
   "cell_type": "markdown",
   "source": [
    "#### Bir NLP projesine başlarken ilk yapılması gerekenler:\n",
    "\n",
    "1- Herşeyi küçük harfe çevirme\n",
    "\n",
    "2- Noktalama işaretlerini kaldırma\n",
    "\n",
    "3- Rakamları kaldırma\n",
    "\n",
    "4- Satırsonu, boşlukları kaldırma\n",
    "\n",
    "5- Stopwords'leri kaldırma (gereksiz kelimeler) yani the, is, are, etc. ee, aa, vb.\n",
    "\n",
    "6- Tokenization\n",
    "\n",
    "7- Lemma & Stemma ile ekleri kaldır kökleri bul\n",
    "\n",
    "8- Vektörleştirme (Word2Vec, TF-IDF, CountVectorizer) "
   ],
   "id": "d94cbce7abdc5e65"
  },
  {
   "metadata": {
    "ExecuteTime": {
     "end_time": "2024-07-20T09:38:00.095973Z",
     "start_time": "2024-07-20T09:38:00.094392Z"
    }
   },
   "cell_type": "code",
   "source": "# TF-IDF term frequency - inverse document frequency",
   "id": "c99d796dac66d70f",
   "outputs": [],
   "execution_count": 927
  },
  {
   "metadata": {
    "ExecuteTime": {
     "end_time": "2024-07-20T09:38:00.099141Z",
     "start_time": "2024-07-20T09:38:00.097497Z"
    }
   },
   "cell_type": "code",
   "source": "from sklearn.feature_extraction.text import CountVectorizer, TfidfVectorizer",
   "id": "dc78b7639554516d",
   "outputs": [],
   "execution_count": 928
  },
  {
   "metadata": {
    "ExecuteTime": {
     "end_time": "2024-07-20T09:38:00.102764Z",
     "start_time": "2024-07-20T09:38:00.101106Z"
    }
   },
   "cell_type": "code",
   "source": [
    "cumleler = [\n",
    "    'Merhaba benim adım Baki Ege',\n",
    "    'Call me a cab',\n",
    "    'please call me... PLEASE!'\n",
    "]"
   ],
   "id": "7a376aa4ff59251a",
   "outputs": [],
   "execution_count": 929
  },
  {
   "metadata": {
    "ExecuteTime": {
     "end_time": "2024-07-20T09:38:00.153032Z",
     "start_time": "2024-07-20T09:38:00.151248Z"
    }
   },
   "cell_type": "code",
   "source": "vectorizer = CountVectorizer()",
   "id": "8fac0d6685917fbc",
   "outputs": [],
   "execution_count": 930
  },
  {
   "metadata": {
    "ExecuteTime": {
     "end_time": "2024-07-20T09:38:00.302620Z",
     "start_time": "2024-07-20T09:38:00.300845Z"
    }
   },
   "cell_type": "code",
   "source": "import pandas as pd",
   "id": "129aaabba13c5ff0",
   "outputs": [],
   "execution_count": 931
  },
  {
   "metadata": {
    "ExecuteTime": {
     "end_time": "2024-07-20T09:38:00.382077Z",
     "start_time": "2024-07-20T09:38:00.379245Z"
    }
   },
   "cell_type": "code",
   "source": "tf = pd.DataFrame(vectorizer.fit_transform(cumleler).toarray(), columns=vectorizer.get_feature_names_out())",
   "id": "d499d6cba62f3b79",
   "outputs": [],
   "execution_count": 932
  },
  {
   "metadata": {
    "ExecuteTime": {
     "end_time": "2024-07-20T09:38:00.434893Z",
     "start_time": "2024-07-20T09:38:00.430470Z"
    }
   },
   "cell_type": "code",
   "source": "tf # Term Frequency yani kelimenin kaç defa geçtiği",
   "id": "38683ceda41393f6",
   "outputs": [
    {
     "data": {
      "text/plain": [
       "   adım  baki  benim  cab  call  ege  me  merhaba  please\n",
       "0     1     1      1    0     0    1   0        1       0\n",
       "1     0     0      0    1     1    0   1        0       0\n",
       "2     0     0      0    0     1    0   1        0       2"
      ],
      "text/html": [
       "<div>\n",
       "<style scoped>\n",
       "    .dataframe tbody tr th:only-of-type {\n",
       "        vertical-align: middle;\n",
       "    }\n",
       "\n",
       "    .dataframe tbody tr th {\n",
       "        vertical-align: top;\n",
       "    }\n",
       "\n",
       "    .dataframe thead th {\n",
       "        text-align: right;\n",
       "    }\n",
       "</style>\n",
       "<table border=\"1\" class=\"dataframe\">\n",
       "  <thead>\n",
       "    <tr style=\"text-align: right;\">\n",
       "      <th></th>\n",
       "      <th>adım</th>\n",
       "      <th>baki</th>\n",
       "      <th>benim</th>\n",
       "      <th>cab</th>\n",
       "      <th>call</th>\n",
       "      <th>ege</th>\n",
       "      <th>me</th>\n",
       "      <th>merhaba</th>\n",
       "      <th>please</th>\n",
       "    </tr>\n",
       "  </thead>\n",
       "  <tbody>\n",
       "    <tr>\n",
       "      <th>0</th>\n",
       "      <td>1</td>\n",
       "      <td>1</td>\n",
       "      <td>1</td>\n",
       "      <td>0</td>\n",
       "      <td>0</td>\n",
       "      <td>1</td>\n",
       "      <td>0</td>\n",
       "      <td>1</td>\n",
       "      <td>0</td>\n",
       "    </tr>\n",
       "    <tr>\n",
       "      <th>1</th>\n",
       "      <td>0</td>\n",
       "      <td>0</td>\n",
       "      <td>0</td>\n",
       "      <td>1</td>\n",
       "      <td>1</td>\n",
       "      <td>0</td>\n",
       "      <td>1</td>\n",
       "      <td>0</td>\n",
       "      <td>0</td>\n",
       "    </tr>\n",
       "    <tr>\n",
       "      <th>2</th>\n",
       "      <td>0</td>\n",
       "      <td>0</td>\n",
       "      <td>0</td>\n",
       "      <td>0</td>\n",
       "      <td>1</td>\n",
       "      <td>0</td>\n",
       "      <td>1</td>\n",
       "      <td>0</td>\n",
       "      <td>2</td>\n",
       "    </tr>\n",
       "  </tbody>\n",
       "</table>\n",
       "</div>"
      ]
     },
     "execution_count": 933,
     "metadata": {},
     "output_type": "execute_result"
    }
   ],
   "execution_count": 933
  },
  {
   "metadata": {
    "ExecuteTime": {
     "end_time": "2024-07-20T09:38:00.474369Z",
     "start_time": "2024-07-20T09:38:00.469625Z"
    }
   },
   "cell_type": "code",
   "source": "df = vectorizer.fit_transform(cumleler).toarray().sum(axis=0)",
   "id": "83536591f936f803",
   "outputs": [],
   "execution_count": 934
  },
  {
   "metadata": {
    "ExecuteTime": {
     "end_time": "2024-07-20T09:38:00.609499Z",
     "start_time": "2024-07-20T09:38:00.606658Z"
    }
   },
   "cell_type": "code",
   "source": "df # kelimenin kaç defa geçtiği",
   "id": "c705e5d4d388d597",
   "outputs": [
    {
     "data": {
      "text/plain": [
       "array([1, 1, 1, 1, 2, 1, 2, 1, 2])"
      ]
     },
     "execution_count": 935,
     "metadata": {},
     "output_type": "execute_result"
    }
   ],
   "execution_count": 935
  },
  {
   "metadata": {
    "ExecuteTime": {
     "end_time": "2024-07-20T09:38:00.644075Z",
     "start_time": "2024-07-20T09:38:00.637421Z"
    }
   },
   "cell_type": "code",
   "source": "tf/df # invert document frequency yani kelimenin kaç belgede geçtiği",
   "id": "9af627c0762b18af",
   "outputs": [
    {
     "data": {
      "text/plain": [
       "   adım  baki  benim  cab  call  ege   me  merhaba  please\n",
       "0   1.0   1.0    1.0  0.0   0.0  1.0  0.0      1.0     0.0\n",
       "1   0.0   0.0    0.0  1.0   0.5  0.0  0.5      0.0     0.0\n",
       "2   0.0   0.0    0.0  0.0   0.5  0.0  0.5      0.0     1.0"
      ],
      "text/html": [
       "<div>\n",
       "<style scoped>\n",
       "    .dataframe tbody tr th:only-of-type {\n",
       "        vertical-align: middle;\n",
       "    }\n",
       "\n",
       "    .dataframe tbody tr th {\n",
       "        vertical-align: top;\n",
       "    }\n",
       "\n",
       "    .dataframe thead th {\n",
       "        text-align: right;\n",
       "    }\n",
       "</style>\n",
       "<table border=\"1\" class=\"dataframe\">\n",
       "  <thead>\n",
       "    <tr style=\"text-align: right;\">\n",
       "      <th></th>\n",
       "      <th>adım</th>\n",
       "      <th>baki</th>\n",
       "      <th>benim</th>\n",
       "      <th>cab</th>\n",
       "      <th>call</th>\n",
       "      <th>ege</th>\n",
       "      <th>me</th>\n",
       "      <th>merhaba</th>\n",
       "      <th>please</th>\n",
       "    </tr>\n",
       "  </thead>\n",
       "  <tbody>\n",
       "    <tr>\n",
       "      <th>0</th>\n",
       "      <td>1.0</td>\n",
       "      <td>1.0</td>\n",
       "      <td>1.0</td>\n",
       "      <td>0.0</td>\n",
       "      <td>0.0</td>\n",
       "      <td>1.0</td>\n",
       "      <td>0.0</td>\n",
       "      <td>1.0</td>\n",
       "      <td>0.0</td>\n",
       "    </tr>\n",
       "    <tr>\n",
       "      <th>1</th>\n",
       "      <td>0.0</td>\n",
       "      <td>0.0</td>\n",
       "      <td>0.0</td>\n",
       "      <td>1.0</td>\n",
       "      <td>0.5</td>\n",
       "      <td>0.0</td>\n",
       "      <td>0.5</td>\n",
       "      <td>0.0</td>\n",
       "      <td>0.0</td>\n",
       "    </tr>\n",
       "    <tr>\n",
       "      <th>2</th>\n",
       "      <td>0.0</td>\n",
       "      <td>0.0</td>\n",
       "      <td>0.0</td>\n",
       "      <td>0.0</td>\n",
       "      <td>0.5</td>\n",
       "      <td>0.0</td>\n",
       "      <td>0.5</td>\n",
       "      <td>0.0</td>\n",
       "      <td>1.0</td>\n",
       "    </tr>\n",
       "  </tbody>\n",
       "</table>\n",
       "</div>"
      ]
     },
     "execution_count": 936,
     "metadata": {},
     "output_type": "execute_result"
    }
   ],
   "execution_count": 936
  },
  {
   "metadata": {},
   "cell_type": "markdown",
   "source": "#### NLP - Restaurant Review Project",
   "id": "9069edd2336b9830"
  },
  {
   "metadata": {
    "ExecuteTime": {
     "end_time": "2024-07-20T09:38:00.854785Z",
     "start_time": "2024-07-20T09:38:00.852763Z"
    }
   },
   "cell_type": "code",
   "source": "import pandas as pd",
   "id": "266052c725003c6e",
   "outputs": [],
   "execution_count": 937
  },
  {
   "metadata": {
    "ExecuteTime": {
     "end_time": "2024-07-20T09:38:00.987994Z",
     "start_time": "2024-07-20T09:38:00.919922Z"
    }
   },
   "cell_type": "code",
   "source": "df = pd.read_csv('yelp.csv')",
   "id": "2a49917cdf0bdb16",
   "outputs": [],
   "execution_count": 938
  },
  {
   "metadata": {
    "ExecuteTime": {
     "end_time": "2024-07-20T09:38:01.015573Z",
     "start_time": "2024-07-20T09:38:01.010971Z"
    }
   },
   "cell_type": "code",
   "source": "df.head()",
   "id": "b9b0c107f45c536",
   "outputs": [
    {
     "data": {
      "text/plain": [
       "              business_id        date               review_id  stars  \\\n",
       "0  9yKzy9PApeiPPOUJEtnvkg  2011-01-26  fWKvX83p0-ka4JS3dc6E5A      5   \n",
       "1  ZRJwVLyzEJq1VAihDhYiow  2011-07-27  IjZ33sJrzXqU-0X6U8NwyA      5   \n",
       "2  6oRAC4uyJCsJl1X0WZpVSA  2012-06-14  IESLBzqUCLdSzSqm0eCSxQ      4   \n",
       "3  _1QQZuf4zZOyFCvXc0o6Vg  2010-05-27  G-WvGaISbqqaMHlNnByodA      5   \n",
       "4  6ozycU1RpktNG2-1BroVtw  2012-01-05  1uJFq2r5QfJG_6ExMRCaGw      5   \n",
       "\n",
       "                                                text    type  \\\n",
       "0  My wife took me here on my birthday for breakf...  review   \n",
       "1  I have no idea why some people give bad review...  review   \n",
       "2  love the gyro plate. Rice is so good and I als...  review   \n",
       "3  Rosie, Dakota, and I LOVE Chaparral Dog Park!!...  review   \n",
       "4  General Manager Scott Petello is a good egg!!!...  review   \n",
       "\n",
       "                  user_id  cool  useful  funny  \n",
       "0  rLtl8ZkDX5vH5nAx9C3q5Q     2       5      0  \n",
       "1  0a2KyEL0d3Yb1V6aivbIuQ     0       0      0  \n",
       "2  0hT2KtfLiobPvh6cDC8JQg     0       1      0  \n",
       "3  uZetl9T0NcROGOyFfughhg     1       2      0  \n",
       "4  vYmM4KTsC8ZfQBg-j5MWkw     0       0      0  "
      ],
      "text/html": [
       "<div>\n",
       "<style scoped>\n",
       "    .dataframe tbody tr th:only-of-type {\n",
       "        vertical-align: middle;\n",
       "    }\n",
       "\n",
       "    .dataframe tbody tr th {\n",
       "        vertical-align: top;\n",
       "    }\n",
       "\n",
       "    .dataframe thead th {\n",
       "        text-align: right;\n",
       "    }\n",
       "</style>\n",
       "<table border=\"1\" class=\"dataframe\">\n",
       "  <thead>\n",
       "    <tr style=\"text-align: right;\">\n",
       "      <th></th>\n",
       "      <th>business_id</th>\n",
       "      <th>date</th>\n",
       "      <th>review_id</th>\n",
       "      <th>stars</th>\n",
       "      <th>text</th>\n",
       "      <th>type</th>\n",
       "      <th>user_id</th>\n",
       "      <th>cool</th>\n",
       "      <th>useful</th>\n",
       "      <th>funny</th>\n",
       "    </tr>\n",
       "  </thead>\n",
       "  <tbody>\n",
       "    <tr>\n",
       "      <th>0</th>\n",
       "      <td>9yKzy9PApeiPPOUJEtnvkg</td>\n",
       "      <td>2011-01-26</td>\n",
       "      <td>fWKvX83p0-ka4JS3dc6E5A</td>\n",
       "      <td>5</td>\n",
       "      <td>My wife took me here on my birthday for breakf...</td>\n",
       "      <td>review</td>\n",
       "      <td>rLtl8ZkDX5vH5nAx9C3q5Q</td>\n",
       "      <td>2</td>\n",
       "      <td>5</td>\n",
       "      <td>0</td>\n",
       "    </tr>\n",
       "    <tr>\n",
       "      <th>1</th>\n",
       "      <td>ZRJwVLyzEJq1VAihDhYiow</td>\n",
       "      <td>2011-07-27</td>\n",
       "      <td>IjZ33sJrzXqU-0X6U8NwyA</td>\n",
       "      <td>5</td>\n",
       "      <td>I have no idea why some people give bad review...</td>\n",
       "      <td>review</td>\n",
       "      <td>0a2KyEL0d3Yb1V6aivbIuQ</td>\n",
       "      <td>0</td>\n",
       "      <td>0</td>\n",
       "      <td>0</td>\n",
       "    </tr>\n",
       "    <tr>\n",
       "      <th>2</th>\n",
       "      <td>6oRAC4uyJCsJl1X0WZpVSA</td>\n",
       "      <td>2012-06-14</td>\n",
       "      <td>IESLBzqUCLdSzSqm0eCSxQ</td>\n",
       "      <td>4</td>\n",
       "      <td>love the gyro plate. Rice is so good and I als...</td>\n",
       "      <td>review</td>\n",
       "      <td>0hT2KtfLiobPvh6cDC8JQg</td>\n",
       "      <td>0</td>\n",
       "      <td>1</td>\n",
       "      <td>0</td>\n",
       "    </tr>\n",
       "    <tr>\n",
       "      <th>3</th>\n",
       "      <td>_1QQZuf4zZOyFCvXc0o6Vg</td>\n",
       "      <td>2010-05-27</td>\n",
       "      <td>G-WvGaISbqqaMHlNnByodA</td>\n",
       "      <td>5</td>\n",
       "      <td>Rosie, Dakota, and I LOVE Chaparral Dog Park!!...</td>\n",
       "      <td>review</td>\n",
       "      <td>uZetl9T0NcROGOyFfughhg</td>\n",
       "      <td>1</td>\n",
       "      <td>2</td>\n",
       "      <td>0</td>\n",
       "    </tr>\n",
       "    <tr>\n",
       "      <th>4</th>\n",
       "      <td>6ozycU1RpktNG2-1BroVtw</td>\n",
       "      <td>2012-01-05</td>\n",
       "      <td>1uJFq2r5QfJG_6ExMRCaGw</td>\n",
       "      <td>5</td>\n",
       "      <td>General Manager Scott Petello is a good egg!!!...</td>\n",
       "      <td>review</td>\n",
       "      <td>vYmM4KTsC8ZfQBg-j5MWkw</td>\n",
       "      <td>0</td>\n",
       "      <td>0</td>\n",
       "      <td>0</td>\n",
       "    </tr>\n",
       "  </tbody>\n",
       "</table>\n",
       "</div>"
      ]
     },
     "execution_count": 939,
     "metadata": {},
     "output_type": "execute_result"
    }
   ],
   "execution_count": 939
  },
  {
   "metadata": {
    "ExecuteTime": {
     "end_time": "2024-07-20T09:38:01.119460Z",
     "start_time": "2024-07-20T09:38:01.112555Z"
    }
   },
   "cell_type": "code",
   "source": "df.info()",
   "id": "5a67d3ca4b300e18",
   "outputs": [
    {
     "name": "stdout",
     "output_type": "stream",
     "text": [
      "<class 'pandas.core.frame.DataFrame'>\n",
      "RangeIndex: 10000 entries, 0 to 9999\n",
      "Data columns (total 10 columns):\n",
      " #   Column       Non-Null Count  Dtype \n",
      "---  ------       --------------  ----- \n",
      " 0   business_id  10000 non-null  object\n",
      " 1   date         10000 non-null  object\n",
      " 2   review_id    10000 non-null  object\n",
      " 3   stars        10000 non-null  int64 \n",
      " 4   text         10000 non-null  object\n",
      " 5   type         10000 non-null  object\n",
      " 6   user_id      10000 non-null  object\n",
      " 7   cool         10000 non-null  int64 \n",
      " 8   useful       10000 non-null  int64 \n",
      " 9   funny        10000 non-null  int64 \n",
      "dtypes: int64(4), object(6)\n",
      "memory usage: 781.4+ KB\n"
     ]
    }
   ],
   "execution_count": 940
  },
  {
   "metadata": {
    "ExecuteTime": {
     "end_time": "2024-07-20T09:38:01.259344Z",
     "start_time": "2024-07-20T09:38:01.256745Z"
    }
   },
   "cell_type": "code",
   "source": "df.shape",
   "id": "bbbe4f8f55c97ff2",
   "outputs": [
    {
     "data": {
      "text/plain": [
       "(10000, 10)"
      ]
     },
     "execution_count": 941,
     "metadata": {},
     "output_type": "execute_result"
    }
   ],
   "execution_count": 941
  },
  {
   "metadata": {},
   "cell_type": "markdown",
   "source": [
    "#### Bir NLP projesine başlarken ilk yapılması gerekenler:\n",
    "\n",
    "1- Herşeyi küçük harfe çevirme\n",
    "\n",
    "2- Noktalama işaretlerini kaldırma\n",
    "\n",
    "3- Rakamları kaldırma\n",
    "\n",
    "4- Satırsonu, boşlukları kaldırma\n",
    "\n",
    "5- Stopwords'leri kaldırma (gereksiz kelimeler) yani the, is, are, etc. ee, aa, vb.\n",
    "\n",
    "6- Tokenization\n",
    "\n",
    "7- Lemma & Stemma ile ekleri kaldır kökleri bul\n",
    "\n",
    "8- Vektörleştirme (Word2Vec, TF-IDF, CountVectorizer) "
   ],
   "id": "8aa10c05b988462b"
  },
  {
   "metadata": {
    "ExecuteTime": {
     "end_time": "2024-07-20T09:38:01.520009Z",
     "start_time": "2024-07-20T09:38:01.304970Z"
    }
   },
   "cell_type": "code",
   "source": [
    "df['text'] = df.text.str.lower()\n",
    "df['text'] = df.text.str.replace('[^\\w\\s]', '', regex=True)\n",
    "df['text'] = df.text.str.replace('\\n', '', regex=True)\n",
    "df['text'] = df.text.str.replace('\\d+', '', regex=True)\n",
    "df['text'] = df.text.str.replace('\\r', '', regex=True)"
   ],
   "id": "c861c0c3d4fb020a",
   "outputs": [],
   "execution_count": 942
  },
  {
   "metadata": {
    "ExecuteTime": {
     "end_time": "2024-07-20T09:38:01.541899Z",
     "start_time": "2024-07-20T09:38:01.539040Z"
    }
   },
   "cell_type": "code",
   "source": "df.text[6]",
   "id": "598cd64ec837e69e",
   "outputs": [
    {
     "data": {
      "text/plain": [
       "'drop what youre doing and drive here after i ate here i had to go back the next day for more  the food is that goodthis cute little green building may have gone competely unoticed if i hadnt been driving down palm rd to avoid construction  while waiting to turn onto th street the grand opening sign caught my eye and my little yelping soul leaped for joy  a new place to tryit looked desolate from the outside but when i opened the door i was put at easy by the decor smell and cleanliness inside  i ordered dinner for two to go  the menu was awesome  i loved seeing all the variety poblano peppers mole mahi mahi mushroomssomething wrapped in banana leaves  it made it difficult to choose something  heres what ive had so far la condesa shrimp burro and baja sur dogfish shark taco  they are both were very delicious meals but the shrimp burro stole the show  so much flavor  i snagged some bites from my hubbys mole and mahi mahi burros mmmm such a delight  the salsa bar is endless  i really stocked up  i was excited to try the strawberry salsa but it was too hot in fact it all was but im a big wimp when it comes to hot peppers the horchata is handmade and delicious  they throw pecans and some fruit in there too which is a yummy bonusas if the good food wasnt enough to win me over the art in this restaurant sho did  im a sucker for mexican folk art and frida kahlo is my oprah  theres a painting of her and diego hanging over the salsa bar its amazing  all the paintings are great love the artist'"
      ]
     },
     "execution_count": 943,
     "metadata": {},
     "output_type": "execute_result"
    }
   ],
   "execution_count": 943
  },
  {
   "metadata": {
    "ExecuteTime": {
     "end_time": "2024-07-20T09:38:01.583124Z",
     "start_time": "2024-07-20T09:38:01.581241Z"
    }
   },
   "cell_type": "code",
   "source": "import seaborn as sns",
   "id": "6d612a2e4f06875d",
   "outputs": [],
   "execution_count": 944
  },
  {
   "metadata": {
    "ExecuteTime": {
     "end_time": "2024-07-20T09:38:01.737155Z",
     "start_time": "2024-07-20T09:38:01.661977Z"
    }
   },
   "cell_type": "code",
   "source": "sns.countplot(x=df.stars);",
   "id": "c6eec86429ba280e",
   "outputs": [
    {
     "data": {
      "text/plain": [
       "<Figure size 640x480 with 1 Axes>"
      ],
      "image/png": "[encoded data removed]"
     },
     "metadata": {},
     "output_type": "display_data"
    }
   ],
   "execution_count": 945
  },
  {
   "metadata": {},
   "cell_type": "markdown",
   "source": "#### Sentiment Analysis (Duygu Analizi)",
   "id": "31ae2d3de3f8c69e"
  },
  {
   "metadata": {
    "ExecuteTime": {
     "end_time": "2024-07-20T09:38:01.741573Z",
     "start_time": "2024-07-20T09:38:01.738404Z"
    }
   },
   "cell_type": "code",
   "source": "yelp = df[(df.stars == 1) | (df.stars == 5)]",
   "id": "86b17119a434aed8",
   "outputs": [],
   "execution_count": 946
  },
  {
   "metadata": {
    "ExecuteTime": {
     "end_time": "2024-07-20T09:38:01.814601Z",
     "start_time": "2024-07-20T09:38:01.812376Z"
    }
   },
   "cell_type": "code",
   "source": "yelp.reset_index(drop=True, inplace=True)",
   "id": "84d5fb56bacf03a0",
   "outputs": [],
   "execution_count": 947
  },
  {
   "metadata": {
    "ExecuteTime": {
     "end_time": "2024-07-20T09:38:01.908280Z",
     "start_time": "2024-07-20T09:38:01.903129Z"
    }
   },
   "cell_type": "code",
   "source": "yelp.head()",
   "id": "2a36faad7bc7d0bf",
   "outputs": [
    {
     "data": {
      "text/plain": [
       "              business_id        date               review_id  stars  \\\n",
       "0  9yKzy9PApeiPPOUJEtnvkg  2011-01-26  fWKvX83p0-ka4JS3dc6E5A      5   \n",
       "1  ZRJwVLyzEJq1VAihDhYiow  2011-07-27  IjZ33sJrzXqU-0X6U8NwyA      5   \n",
       "2  _1QQZuf4zZOyFCvXc0o6Vg  2010-05-27  G-WvGaISbqqaMHlNnByodA      5   \n",
       "3  6ozycU1RpktNG2-1BroVtw  2012-01-05  1uJFq2r5QfJG_6ExMRCaGw      5   \n",
       "4  zp713qNhx8d9KCJJnrw1xA  2010-02-12  riFQ3vxNpP4rWLk_CSri2A      5   \n",
       "\n",
       "                                                text    type  \\\n",
       "0  my wife took me here on my birthday for breakf...  review   \n",
       "1  i have no idea why some people give bad review...  review   \n",
       "2  rosie dakota and i love chaparral dog park its...  review   \n",
       "3  general manager scott petello is a good egg no...  review   \n",
       "4  drop what youre doing and drive here after i a...  review   \n",
       "\n",
       "                  user_id  cool  useful  funny  \n",
       "0  rLtl8ZkDX5vH5nAx9C3q5Q     2       5      0  \n",
       "1  0a2KyEL0d3Yb1V6aivbIuQ     0       0      0  \n",
       "2  uZetl9T0NcROGOyFfughhg     1       2      0  \n",
       "3  vYmM4KTsC8ZfQBg-j5MWkw     0       0      0  \n",
       "4  wFweIWhv2fREZV_dYkz_1g     7       7      4  "
      ],
      "text/html": [
       "<div>\n",
       "<style scoped>\n",
       "    .dataframe tbody tr th:only-of-type {\n",
       "        vertical-align: middle;\n",
       "    }\n",
       "\n",
       "    .dataframe tbody tr th {\n",
       "        vertical-align: top;\n",
       "    }\n",
       "\n",
       "    .dataframe thead th {\n",
       "        text-align: right;\n",
       "    }\n",
       "</style>\n",
       "<table border=\"1\" class=\"dataframe\">\n",
       "  <thead>\n",
       "    <tr style=\"text-align: right;\">\n",
       "      <th></th>\n",
       "      <th>business_id</th>\n",
       "      <th>date</th>\n",
       "      <th>review_id</th>\n",
       "      <th>stars</th>\n",
       "      <th>text</th>\n",
       "      <th>type</th>\n",
       "      <th>user_id</th>\n",
       "      <th>cool</th>\n",
       "      <th>useful</th>\n",
       "      <th>funny</th>\n",
       "    </tr>\n",
       "  </thead>\n",
       "  <tbody>\n",
       "    <tr>\n",
       "      <th>0</th>\n",
       "      <td>9yKzy9PApeiPPOUJEtnvkg</td>\n",
       "      <td>2011-01-26</td>\n",
       "      <td>fWKvX83p0-ka4JS3dc6E5A</td>\n",
       "      <td>5</td>\n",
       "      <td>my wife took me here on my birthday for breakf...</td>\n",
       "      <td>review</td>\n",
       "      <td>rLtl8ZkDX5vH5nAx9C3q5Q</td>\n",
       "      <td>2</td>\n",
       "      <td>5</td>\n",
       "      <td>0</td>\n",
       "    </tr>\n",
       "    <tr>\n",
       "      <th>1</th>\n",
       "      <td>ZRJwVLyzEJq1VAihDhYiow</td>\n",
       "      <td>2011-07-27</td>\n",
       "      <td>IjZ33sJrzXqU-0X6U8NwyA</td>\n",
       "      <td>5</td>\n",
       "      <td>i have no idea why some people give bad review...</td>\n",
       "      <td>review</td>\n",
       "      <td>0a2KyEL0d3Yb1V6aivbIuQ</td>\n",
       "      <td>0</td>\n",
       "      <td>0</td>\n",
       "      <td>0</td>\n",
       "    </tr>\n",
       "    <tr>\n",
       "      <th>2</th>\n",
       "      <td>_1QQZuf4zZOyFCvXc0o6Vg</td>\n",
       "      <td>2010-05-27</td>\n",
       "      <td>G-WvGaISbqqaMHlNnByodA</td>\n",
       "      <td>5</td>\n",
       "      <td>rosie dakota and i love chaparral dog park its...</td>\n",
       "      <td>review</td>\n",
       "      <td>uZetl9T0NcROGOyFfughhg</td>\n",
       "      <td>1</td>\n",
       "      <td>2</td>\n",
       "      <td>0</td>\n",
       "    </tr>\n",
       "    <tr>\n",
       "      <th>3</th>\n",
       "      <td>6ozycU1RpktNG2-1BroVtw</td>\n",
       "      <td>2012-01-05</td>\n",
       "      <td>1uJFq2r5QfJG_6ExMRCaGw</td>\n",
       "      <td>5</td>\n",
       "      <td>general manager scott petello is a good egg no...</td>\n",
       "      <td>review</td>\n",
       "      <td>vYmM4KTsC8ZfQBg-j5MWkw</td>\n",
       "      <td>0</td>\n",
       "      <td>0</td>\n",
       "      <td>0</td>\n",
       "    </tr>\n",
       "    <tr>\n",
       "      <th>4</th>\n",
       "      <td>zp713qNhx8d9KCJJnrw1xA</td>\n",
       "      <td>2010-02-12</td>\n",
       "      <td>riFQ3vxNpP4rWLk_CSri2A</td>\n",
       "      <td>5</td>\n",
       "      <td>drop what youre doing and drive here after i a...</td>\n",
       "      <td>review</td>\n",
       "      <td>wFweIWhv2fREZV_dYkz_1g</td>\n",
       "      <td>7</td>\n",
       "      <td>7</td>\n",
       "      <td>4</td>\n",
       "    </tr>\n",
       "  </tbody>\n",
       "</table>\n",
       "</div>"
      ]
     },
     "execution_count": 948,
     "metadata": {},
     "output_type": "execute_result"
    }
   ],
   "execution_count": 948
  },
  {
   "metadata": {
    "ExecuteTime": {
     "end_time": "2024-07-20T09:38:02.040284Z",
     "start_time": "2024-07-20T09:38:02.038235Z"
    }
   },
   "cell_type": "code",
   "source": [
    "from sklearn.linear_model import LogisticRegression\n",
    "from sklearn.tree import DecisionTreeClassifier\n",
    "from sklearn.model_selection import train_test_split"
   ],
   "id": "fc0b13a1eaa9b285",
   "outputs": [],
   "execution_count": 949
  },
  {
   "metadata": {
    "ExecuteTime": {
     "end_time": "2024-07-20T09:38:02.116951Z",
     "start_time": "2024-07-20T09:38:02.115140Z"
    }
   },
   "cell_type": "code",
   "source": [
    "from nltk.stem import PorterStemmer\n",
    "pr = PorterStemmer()"
   ],
   "id": "a02dd216ae4194cb",
   "outputs": [],
   "execution_count": 950
  },
  {
   "metadata": {
    "ExecuteTime": {
     "end_time": "2024-07-20T09:38:02.196959Z",
     "start_time": "2024-07-20T09:38:02.194751Z"
    }
   },
   "cell_type": "code",
   "source": [
    "def lemma (text):\n",
    "    words = TextBlob(text).words\n",
    "    return [pr.stem(word) for word in words]"
   ],
   "id": "1e50c0644cbcb505",
   "outputs": [],
   "execution_count": 951
  },
  {
   "metadata": {
    "ExecuteTime": {
     "end_time": "2024-07-20T09:38:02.300470Z",
     "start_time": "2024-07-20T09:38:02.298213Z"
    }
   },
   "cell_type": "code",
   "source": "vect = CountVectorizer(stop_words=\"english\", max_features=10000, ngram_range=(1,2), analyzer=lemma)",
   "id": "862465ba0a3f219b",
   "outputs": [],
   "execution_count": 952
  },
  {
   "metadata": {
    "ExecuteTime": {
     "end_time": "2024-07-20T09:38:02.397024Z",
     "start_time": "2024-07-20T09:38:02.394867Z"
    }
   },
   "cell_type": "code",
   "source": [
    "x = yelp.text\n",
    "y = yelp.stars"
   ],
   "id": "4e910f63665676d5",
   "outputs": [],
   "execution_count": 953
  },
  {
   "metadata": {
    "ExecuteTime": {
     "end_time": "2024-07-20T09:38:08.011598Z",
     "start_time": "2024-07-20T09:38:02.482457Z"
    }
   },
   "cell_type": "code",
   "source": "x = vect.fit_transform(x)",
   "id": "b9e23b935276dbb5",
   "outputs": [
    {
     "name": "stderr",
     "output_type": "stream",
     "text": [
      "/Users/egekibar/Github/ai-course/.venv/lib/python3.9/site-packages/sklearn/feature_extraction/text.py:537: UserWarning: The parameter 'ngram_range' will not be used since 'analyzer' is callable'\n",
      "  warnings.warn(\n",
      "/Users/egekibar/Github/ai-course/.venv/lib/python3.9/site-packages/sklearn/feature_extraction/text.py:543: UserWarning: The parameter 'stop_words' will not be used since 'analyzer' != 'word'\n",
      "  warnings.warn(\n"
     ]
    }
   ],
   "execution_count": 954
  },
  {
   "metadata": {
    "ExecuteTime": {
     "end_time": "2024-07-20T09:38:08.017029Z",
     "start_time": "2024-07-20T09:38:08.013241Z"
    }
   },
   "cell_type": "code",
   "source": "x_train, x_test, y_train, y_test = train_test_split(x, y, test_size=0.2, random_state=42)",
   "id": "50b4006bfa8d8638",
   "outputs": [],
   "execution_count": 955
  },
  {
   "metadata": {
    "ExecuteTime": {
     "end_time": "2024-07-20T09:38:08.019570Z",
     "start_time": "2024-07-20T09:38:08.017634Z"
    }
   },
   "cell_type": "code",
   "source": "#tf = pd.DataFrame(vectorizer.fit_transform(x_train).toarray(), columns=vectorizer.get_feature_names_out())",
   "id": "bb5dab0d13959bca",
   "outputs": [],
   "execution_count": 956
  },
  {
   "metadata": {
    "ExecuteTime": {
     "end_time": "2024-07-20T09:38:08.022468Z",
     "start_time": "2024-07-20T09:38:08.020987Z"
    }
   },
   "cell_type": "code",
   "source": "# tf.head()",
   "id": "cf9206cd699068ee",
   "outputs": [],
   "execution_count": 957
  },
  {
   "metadata": {
    "ExecuteTime": {
     "end_time": "2024-07-20T09:38:08.025027Z",
     "start_time": "2024-07-20T09:38:08.023252Z"
    }
   },
   "cell_type": "code",
   "source": "# tf.shape",
   "id": "7214141db93d9c67",
   "outputs": [],
   "execution_count": 958
  },
  {
   "metadata": {
    "ExecuteTime": {
     "end_time": "2024-07-20T09:38:08.027706Z",
     "start_time": "2024-07-20T09:38:08.025572Z"
    }
   },
   "cell_type": "code",
   "source": [
    "l = LogisticRegression()\n",
    "r = DecisionTreeClassifier()"
   ],
   "id": "8fdeb10c7ac92756",
   "outputs": [],
   "execution_count": 959
  },
  {
   "metadata": {
    "ExecuteTime": {
     "end_time": "2024-07-20T09:38:09.785941Z",
     "start_time": "2024-07-20T09:38:08.028299Z"
    }
   },
   "cell_type": "code",
   "source": "l.fit(x_train, y_train);",
   "id": "7fb16c8851dc67ce",
   "outputs": [],
   "execution_count": 960
  },
  {
   "metadata": {
    "ExecuteTime": {
     "end_time": "2024-07-20T09:38:09.835814Z",
     "start_time": "2024-07-20T09:38:09.790237Z"
    }
   },
   "cell_type": "code",
   "source": "pred = l.predict(x_test)",
   "id": "591cb9edef686298",
   "outputs": [],
   "execution_count": 961
  },
  {
   "metadata": {
    "ExecuteTime": {
     "end_time": "2024-07-20T09:38:09.870704Z",
     "start_time": "2024-07-20T09:38:09.849075Z"
    }
   },
   "cell_type": "code",
   "source": "from sklearn.metrics import accuracy_score, confusion_matrix",
   "id": "40da01dc426136ad",
   "outputs": [],
   "execution_count": 962
  },
  {
   "metadata": {
    "ExecuteTime": {
     "end_time": "2024-07-20T09:38:10.035614Z",
     "start_time": "2024-07-20T09:38:10.019535Z"
    }
   },
   "cell_type": "code",
   "source": "accuracy_score(y_test, pred)",
   "id": "bdd9b2e4a0d735a2",
   "outputs": [
    {
     "data": {
      "text/plain": [
       "0.9229828850855746"
      ]
     },
     "execution_count": 963,
     "metadata": {},
     "output_type": "execute_result"
    }
   ],
   "execution_count": 963
  },
  {
   "metadata": {
    "ExecuteTime": {
     "end_time": "2024-07-20T09:38:10.047712Z",
     "start_time": "2024-07-20T09:38:10.041703Z"
    }
   },
   "cell_type": "code",
   "source": "from textblob import TextBlob",
   "id": "32d38fea3badb072",
   "outputs": [],
   "execution_count": 964
  },
  {
   "metadata": {
    "ExecuteTime": {
     "end_time": "2024-07-20T09:38:10.051974Z",
     "start_time": "2024-07-20T09:38:10.049133Z"
    }
   },
   "cell_type": "code",
   "source": "TextBlob('I love this restaurant').sentiment",
   "id": "af11e829453b18ac",
   "outputs": [
    {
     "data": {
      "text/plain": [
       "Sentiment(polarity=0.5, subjectivity=0.6)"
      ]
     },
     "execution_count": 965,
     "metadata": {},
     "output_type": "execute_result"
    }
   ],
   "execution_count": 965
  },
  {
   "metadata": {
    "ExecuteTime": {
     "end_time": "2024-07-20T09:38:10.055585Z",
     "start_time": "2024-07-20T09:38:10.052984Z"
    }
   },
   "cell_type": "code",
   "source": "TextBlob('You are the best').sentiment",
   "id": "bc6b55660a2ac7be",
   "outputs": [
    {
     "data": {
      "text/plain": [
       "Sentiment(polarity=1.0, subjectivity=0.3)"
      ]
     },
     "execution_count": 966,
     "metadata": {},
     "output_type": "execute_result"
    }
   ],
   "execution_count": 966
  },
  {
   "metadata": {
    "ExecuteTime": {
     "end_time": "2024-07-20T09:38:10.059221Z",
     "start_time": "2024-07-20T09:38:10.056238Z"
    }
   },
   "cell_type": "code",
   "source": "TextBlob(df.text[0]).sentiment",
   "id": "8ad082e0433a8dbd",
   "outputs": [
    {
     "data": {
      "text/plain": [
       "Sentiment(polarity=0.3906666666666666, subjectivity=0.65584126984127)"
      ]
     },
     "execution_count": 967,
     "metadata": {},
     "output_type": "execute_result"
    }
   ],
   "execution_count": 967
  },
  {
   "metadata": {
    "ExecuteTime": {
     "end_time": "2024-07-20T09:38:10.063195Z",
     "start_time": "2024-07-20T09:38:10.059794Z"
    }
   },
   "cell_type": "code",
   "source": "TextBlob(df.text[23]).sentiment",
   "id": "8ba092a69c235924",
   "outputs": [
    {
     "data": {
      "text/plain": [
       "Sentiment(polarity=-0.22007575757575754, subjectivity=0.5928030303030303)"
      ]
     },
     "execution_count": 968,
     "metadata": {},
     "output_type": "execute_result"
    }
   ],
   "execution_count": 968
  }
 ],
 "metadata": {
  "kernelspec": {
   "display_name": "Python 3",
   "language": "python",
   "name": "python3"
  },
  "language_info": {
   "codemirror_mode": {
    "name": "ipython",
    "version": 2
   },
   "file_extension": ".py",
   "mimetype": "text/x-python",
   "name": "python",
   "nbconvert_exporter": "python",
   "pygments_lexer": "ipython2",
   "version": "2.7.6"
  }
 },
 "nbformat": 4,
 "nbformat_minor": 5
}
