{
 "cells": [
  {
   "cell_type": "code",
   "id": "initial_id",
   "metadata": {
    "collapsed": true,
    "ExecuteTime": {
     "end_time": "2024-08-27T10:29:43.385543Z",
     "start_time": "2024-08-27T10:29:40.723009Z"
    }
   },
   "source": [
    "from bing_image_downloader import downloader\n",
    "from keras.src.layers import BatchNormalization"
   ],
   "outputs": [
    {
     "name": "stderr",
     "output_type": "stream",
     "text": [
      "/Users/egekibar/GitHub/ai-course/venv/lib/python3.9/site-packages/urllib3/__init__.py:35: NotOpenSSLWarning: urllib3 v2 only supports OpenSSL 1.1.1+, currently the 'ssl' module is compiled with 'LibreSSL 2.8.3'. See: https://github.com/urllib3/urllib3/issues/3020\n",
      "  warnings.warn(\n"
     ]
    }
   ],
   "execution_count": 1
  },
  {
   "metadata": {
    "ExecuteTime": {
     "end_time": "2024-08-27T10:30:08.455842Z",
     "start_time": "2024-08-27T10:29:43.389162Z"
    }
   },
   "cell_type": "code",
   "source": "downloader.download('handwritten number', limit=50, adult_filter_off=True)",
   "id": "e3dc167a74455036",
   "outputs": [
    {
     "name": "stdout",
     "output_type": "stream",
     "text": [
      "[%] Downloading Images to /Users/egekibar/GitHub/ai-course/Day 9/dataset/handwritten number\n",
      "\n",
      "\n",
      "[!!]Indexing page: 1\n",
      "\n",
      "[%] Indexed 35 Images on Page 1.\n",
      "\n",
      "===============================================\n",
      "\n",
      "[%] Downloading Image #1 from https://static.vecteezy.com/system/resources/previews/000/265/840/original/vector-handwritten-numbers-on-white-background-brusk-stroke.jpg\n",
      "[%] File Downloaded !\n",
      "\n",
      "[%] Downloading Image #2 from https://img.freepik.com/premium-vector/free-vector-handwriting-number-collection-brush-lettering-ink-number-set_935409-10.jpg?w=740\n",
      "[%] File Downloaded !\n",
      "\n",
      "[%] Downloading Image #3 from https://i.etsystatic.com/22965565/r/il/eb8a29/2586353941/il_1140xN.2586353941_r7vk.jpg\n",
      "[%] File Downloaded !\n",
      "\n",
      "[%] Downloading Image #4 from https://1.bp.blogspot.com/-fGR7t6RnXZs/Uv5kdmT89_I/AAAAAAAAAjg/zZHfaCqnkak/s1600/freeDrawExport_012314055352.png\n",
      "[%] File Downloaded !\n",
      "\n",
      "[%] Downloading Image #5 from https://i.ytimg.com/vi/WJqX_pZ4bwI/maxresdefault.jpg\n",
      "[%] File Downloaded !\n",
      "\n",
      "[%] Downloading Image #6 from https://image.shutterstock.com/shutterstock/photos/1762361801/display_1500/stock-vector-vector-set-of-calligraphic-hand-written-numbers-design-elements-brush-lettering-1762361801.jpg\n",
      "[%] File Downloaded !\n",
      "\n",
      "[%] Downloading Image #7 from https://i.ytimg.com/vi/v76u08esNAw/maxresdefault.jpg\n",
      "[%] File Downloaded !\n",
      "\n",
      "[%] Downloading Image #8 from https://www.freehomeschooldeals.com/wp-content/uploads/2014/11/cap2.jpg\n",
      "[%] File Downloaded !\n",
      "\n",
      "[%] Downloading Image #9 from https://i.ytimg.com/vi/ykfkJaD4_S4/maxresdefault.jpg\n",
      "[%] File Downloaded !\n",
      "\n",
      "[%] Downloading Image #10 from https://i0.wp.com/miltonandprescott.com/wp-content/uploads/2019/03/Numeral-Handwriting-1-30-1.png?resize=988%2C1024\n",
      "[%] File Downloaded !\n",
      "\n",
      "[%] Downloading Image #11 from http://amylattacreations.com/wp-content/uploads/2016/01/numbers.jpg\n",
      "[%] File Downloaded !\n",
      "\n",
      "[%] Downloading Image #12 from https://st.depositphotos.com/2899123/3753/v/950/depositphotos_37531945-stock-illustration-5-black-handwritten-number-on.jpg\n",
      "[%] File Downloaded !\n",
      "\n",
      "[%] Downloading Image #13 from http://1.bp.blogspot.com/-zd8Bd8AFli4/Uv5kerZXjBI/AAAAAAAAAjo/SIH3Hh2WT8A/s1600/freeDrawExport_012314055711.png\n",
      "[%] File Downloaded !\n",
      "\n",
      "[%] Downloading Image #14 from http://image.shutterstock.com/z/stock-vector-black-handwritten-numbers-freehand-set-of-vector-characters-isolated-298187600.jpg\n",
      "[%] File Downloaded !\n",
      "\n",
      "[%] Downloading Image #15 from https://thumbs.dreamstime.com/z/hand-drawn-numbers-handwritten-style-numbers-digital-style-hand-drawn-doodle-sketch-hand-drawn-numbers-handwritten-style-numbers-133011302.jpg\n",
      "[%] File Downloaded !\n",
      "\n",
      "[%] Downloading Image #16 from https://img.freepik.com/premium-vector/collection-calligraphy-handwritten-number-vector-materials_444663-100.jpg?w=2000\n",
      "[%] File Downloaded !\n",
      "\n",
      "[%] Downloading Image #17 from https://i.etsystatic.com/22965565/r/il/a5f2f0/2538671644/il_fullxfull.2538671644_2wnn.jpg\n",
      "[%] File Downloaded !\n",
      "\n",
      "[%] Downloading Image #18 from https://image.shutterstock.com/z/stock-vector-handwritten-numbers-hand-drawn-in-vector-230097706.jpg\n",
      "[%] File Downloaded !\n",
      "\n",
      "[%] Downloading Image #19 from https://image.shutterstock.com/z/stock-vector-handwritten-number-hand-drawn-in-vector-230096968.jpg\n",
      "[%] File Downloaded !\n",
      "\n",
      "[%] Downloading Image #20 from http://image.shutterstock.com/z/stock-vector-handwritten-numbers-vector-calligraphy-245916661.jpg\n",
      "[%] File Downloaded !\n",
      "\n",
      "[%] Downloading Image #21 from https://thumbs.dreamstime.com/b/handwritten-numbers-set-hand-written-colorful-illustration-75739339.jpg\n",
      "[%] File Downloaded !\n",
      "\n",
      "[%] Downloading Image #22 from https://image.shutterstock.com/z/stock-vector-numbers-text-number-set-in-handwritten-scribbled-drawn-text-styles-with-various-thickness-and-1444343873.jpg\n",
      "[%] File Downloaded !\n",
      "\n",
      "[%] Downloading Image #23 from https://thumbs.dreamstime.com/b/handwritten-numbers-two-font-styles-vector-illustration-78597790.jpg\n",
      "[%] File Downloaded !\n",
      "\n",
      "[%] Downloading Image #24 from https://thumbs.dreamstime.com/z/red-handwritten-numbers-set-to-isolated-white-37641731.jpg\n",
      "[%] File Downloaded !\n",
      "\n",
      "[%] Downloading Image #25 from https://cdn4.vectorstock.com/i/1000x1000/52/93/black-handwritten-numbers-vector-17355293.jpg\n",
      "[%] File Downloaded !\n",
      "\n",
      "[%] Downloading Image #26 from https://img.freepik.com/premium-vector/number-vector-file_615687-474.jpg\n",
      "[%] File Downloaded !\n",
      "\n",
      "[%] Downloading Image #27 from https://image.shutterstock.com/image-vector/handwritten-numbers-vector-260nw-333225059.jpg\n",
      "[Error]Invalid image, not saving https://image.shutterstock.com/image-vector/handwritten-numbers-vector-260nw-333225059.jpg\n",
      "\n",
      "[!] Issue getting: https://image.shutterstock.com/image-vector/handwritten-numbers-vector-260nw-333225059.jpg\n",
      "[!] Error:: Invalid image, not saving https://image.shutterstock.com/image-vector/handwritten-numbers-vector-260nw-333225059.jpg\n",
      "\n",
      "[%] Downloading Image #27 from https://thumbs.dreamstime.com/z/closeup-vintage-handwritten-numbers-inked-th-century-student-workbook-35161251.jpg\n",
      "[%] File Downloaded !\n",
      "\n",
      "[%] Downloading Image #28 from https://c8.alamy.com/comp/2C22YA5/hand-written-numbers-0-to-9-black-pencil-drawing-2C22YA5.jpg\n",
      "[%] File Downloaded !\n",
      "\n",
      "[%] Downloading Image #29 from https://thumbs.dreamstime.com/z/handwritten-numbers-15581529.jpg\n",
      "[%] File Downloaded !\n",
      "\n",
      "[%] Downloading Image #30 from https://thumbs.dreamstime.com/b/handwritten-numbers-set-hand-written-colorful-illustration-75739315.jpg\n",
      "[%] File Downloaded !\n",
      "\n",
      "[%] Downloading Image #31 from https://i1.wp.com/miltonandprescott.com/wp-content/uploads/2019/03/Numeral-Handwriting-90-100.png?resize=889%2C1024\n",
      "[%] File Downloaded !\n",
      "\n",
      "[%] Downloading Image #32 from https://cdn.themeasuredmom.com/wp-content/uploads/2014/09/page-2-590x460.jpg\n",
      "[%] File Downloaded !\n",
      "\n",
      "[%] Downloading Image #33 from https://gulliverhandley.com/wp-content/uploads/2020/09/digits.jpg\n",
      "[%] File Downloaded !\n",
      "\n",
      "[%] Downloading Image #34 from https://1.bp.blogspot.com/-Doe1VaClUvk/UtNYC4EVUGI/AAAAAAAAEGM/nYBbba2iKOI/s1600/handwriting+numbers22.jpg\n",
      "[%] File Downloaded !\n",
      "\n",
      "\n",
      "\n",
      "[!!]Indexing page: 2\n",
      "\n",
      "[%] Indexed 35 Images on Page 2.\n",
      "\n",
      "===============================================\n",
      "\n",
      "\n",
      "\n",
      "[!!]Indexing page: 3\n",
      "\n",
      "[%] Indexed 35 Images on Page 3.\n",
      "\n",
      "===============================================\n",
      "\n",
      "[%] Downloading Image #35 from https://cdn2.vectorstock.com/i/1000x1000/13/01/handwritten-numbers-on-white-background-brusk-vector-15521301.jpg\n",
      "[%] File Downloaded !\n",
      "\n",
      "\n",
      "\n",
      "[!!]Indexing page: 4\n",
      "\n",
      "[%] Indexed 35 Images on Page 4.\n",
      "\n",
      "===============================================\n",
      "\n",
      "[%] Downloading Image #36 from https://img.freepik.com/premium-vector/free-vector-handwriting-number-collection-brush-lettering-ink-number-set_935409-10.jpg\n",
      "[%] File Downloaded !\n",
      "\n",
      "\n",
      "\n",
      "[!!]Indexing page: 5\n",
      "\n",
      "[%] Indexed 35 Images on Page 5.\n",
      "\n",
      "===============================================\n",
      "\n",
      "[%] Downloading Image #37 from https://image.shutterstock.com/z/stock-vector-number-and-alphabet-handwritten-number-vector-278044904.jpg\n",
      "[%] File Downloaded !\n",
      "\n",
      "\n",
      "\n",
      "[!!]Indexing page: 6\n",
      "\n",
      "[%] Indexed 35 Images on Page 6.\n",
      "\n",
      "===============================================\n",
      "\n",
      "[%] Downloading Image #38 from https://i.etsystatic.com/22965565/r/il/23bb1c/2538703098/il_fullxfull.2538703098_6iiv.jpg\n",
      "[%] File Downloaded !\n",
      "\n",
      "\n",
      "\n",
      "[!!]Indexing page: 7\n",
      "\n",
      "[%] Indexed 35 Images on Page 7.\n",
      "\n",
      "===============================================\n",
      "\n",
      "[%] Downloading Image #39 from https://www.kindpng.com/picc/m/231-2313883_transparent-handwriting-png-hand-written-numbers-png-png.png\n",
      "[%] File Downloaded !\n",
      "\n",
      "\n",
      "\n",
      "[!!]Indexing page: 8\n",
      "\n",
      "[%] Indexed 35 Images on Page 8.\n",
      "\n",
      "===============================================\n",
      "\n",
      "[%] Downloading Image #40 from https://thumbs.dreamstime.com/z/handwritten-vector-numbers-isolated-white-background-painted-modern-set-47128978.jpg\n",
      "[%] File Downloaded !\n",
      "\n",
      "\n",
      "\n",
      "[!!]Indexing page: 9\n",
      "\n",
      "[%] Indexed 35 Images on Page 9.\n",
      "\n",
      "===============================================\n",
      "\n",
      "[%] Downloading Image #41 from https://thumbs.dreamstime.com/b/hand-drawn-numbers-set-handwritten-vector-alphabet-brush-font-script-isolated-letters-written-marker-ink-calligraphy-260115432.jpg\n",
      "[%] File Downloaded !\n",
      "\n",
      "[%] Downloading Image #42 from https://ecdn.teacherspayteachers.com/thumbitem/1-to-20-Handwritten-Number-Tracing-8486144-1661769717/original-8486144-1.jpg\n",
      "[%] File Downloaded !\n",
      "\n",
      "\n",
      "\n",
      "[!!]Indexing page: 10\n",
      "\n",
      "[%] Indexed 35 Images on Page 10.\n",
      "\n",
      "===============================================\n",
      "\n",
      "[%] Downloading Image #43 from https://thumbs.dreamstime.com/z/vector-set-calligraphic-hand-written-numbers-design-elements-brush-lettering-188095230.jpg\n",
      "[%] File Downloaded !\n",
      "\n",
      "\n",
      "\n",
      "[!!]Indexing page: 11\n",
      "\n",
      "[%] Indexed 35 Images on Page 11.\n",
      "\n",
      "===============================================\n",
      "\n",
      "[%] Downloading Image #44 from https://2.bp.blogspot.com/-E2gd9jx1B_Q/UtNYAzjcKEI/AAAAAAAAEGA/Bnk9NO6IA3s/s1600/handwriting+numbers15.jpg\n",
      "[%] File Downloaded !\n",
      "\n",
      "\n",
      "\n",
      "[!!]Indexing page: 12\n",
      "\n",
      "[%] Indexed 35 Images on Page 12.\n",
      "\n",
      "===============================================\n",
      "\n",
      "[%] Downloading Image #45 from https://static.vecteezy.com/system/resources/previews/000/142/765/large_2x/grungy-handwritten-number-vectors.jpg\n",
      "[%] File Downloaded !\n",
      "\n",
      "\n",
      "\n",
      "[!!]Indexing page: 13\n",
      "\n",
      "[%] Indexed 35 Images on Page 13.\n",
      "\n",
      "===============================================\n",
      "\n",
      "[%] Downloading Image #46 from http://image.shutterstock.com/z/stock-vector-black-handwritten-numbers-on-white-background-acrylic-colors-vector-illustration-216526723.jpg\n",
      "[%] File Downloaded !\n",
      "\n",
      "\n",
      "\n",
      "[!!]Indexing page: 14\n",
      "\n",
      "[%] Indexed 35 Images on Page 14.\n",
      "\n",
      "===============================================\n",
      "\n",
      "[%] Downloading Image #47 from http://hannahspannah.co.uk/wp-content/uploads/2015/07/0011.jpg\n",
      "[!] Issue getting: http://hannahspannah.co.uk/wp-content/uploads/2015/07/0011.jpg\n",
      "[!] Error:: Remote end closed connection without response\n",
      "\n",
      "\n",
      "[!!]Indexing page: 15\n",
      "\n",
      "[%] Indexed 35 Images on Page 15.\n",
      "\n",
      "===============================================\n",
      "\n",
      "[%] Downloading Image #47 from https://thumbs.dreamstime.com/b/handwritten-numbers-isolated-white-background-hand-drawn-brush-stroke-fonts-handwritten-numbers-isolated-white-background-176132478.jpg\n",
      "[%] File Downloaded !\n",
      "\n",
      "\n",
      "\n",
      "[!!]Indexing page: 16\n",
      "\n",
      "[%] Indexed 35 Images on Page 16.\n",
      "\n",
      "===============================================\n",
      "\n",
      "[%] Downloading Image #48 from https://d2gg9evh47fn9z.cloudfront.net/800px_COLOURBOX29008453.jpg\n",
      "[Error]Invalid image, not saving https://d2gg9evh47fn9z.cloudfront.net/800px_COLOURBOX29008453.jpg\n",
      "\n",
      "[!] Issue getting: https://d2gg9evh47fn9z.cloudfront.net/800px_COLOURBOX29008453.jpg\n",
      "[!] Error:: Invalid image, not saving https://d2gg9evh47fn9z.cloudfront.net/800px_COLOURBOX29008453.jpg\n",
      "\n",
      "\n",
      "\n",
      "[!!]Indexing page: 17\n",
      "\n",
      "[%] Indexed 35 Images on Page 17.\n",
      "\n",
      "===============================================\n",
      "\n",
      "[%] Downloading Image #48 from https://image.shutterstock.com/image-illustration/black-handwritten-numbers-on-white-600w-216576319.jpg\n",
      "[Error]Invalid image, not saving https://image.shutterstock.com/image-illustration/black-handwritten-numbers-on-white-600w-216576319.jpg\n",
      "\n",
      "[!] Issue getting: https://image.shutterstock.com/image-illustration/black-handwritten-numbers-on-white-600w-216576319.jpg\n",
      "[!] Error:: Invalid image, not saving https://image.shutterstock.com/image-illustration/black-handwritten-numbers-on-white-600w-216576319.jpg\n",
      "\n",
      "[%] Downloading Image #48 from https://i.pinimg.com/736x/6e/fb/98/6efb98b283e627db400dbd37b4d1ceb8--bullet-journal-scripts.jpg\n",
      "[%] File Downloaded !\n",
      "\n",
      "\n",
      "\n",
      "[!!]Indexing page: 18\n",
      "\n",
      "[%] Indexed 35 Images on Page 18.\n",
      "\n",
      "===============================================\n",
      "\n",
      "\n",
      "\n",
      "[!!]Indexing page: 19\n",
      "\n",
      "[%] Indexed 35 Images on Page 19.\n",
      "\n",
      "===============================================\n",
      "\n",
      "[%] Downloading Image #49 from https://i.ytimg.com/vi/TMAx0iBYDCI/maxresdefault.jpg\n",
      "[%] File Downloaded !\n",
      "\n",
      "[%] Downloading Image #50 from https://cdn-images-1.medium.com/max/1600/0*4JRXMGNuA7FLG2KR.png\n",
      "[%] File Downloaded !\n",
      "\n",
      "\n",
      "\n",
      "[%] Done. Downloaded 50 images.\n"
     ]
    }
   ],
   "execution_count": 2
  },
  {
   "metadata": {},
   "cell_type": "markdown",
   "source": "# Computer Vision with Deep Learning",
   "id": "62de3481fe77410e"
  },
  {
   "metadata": {
    "ExecuteTime": {
     "end_time": "2024-08-27T10:30:08.576963Z",
     "start_time": "2024-08-27T10:30:08.574893Z"
    }
   },
   "cell_type": "code",
   "source": "import tensorflow as tf",
   "id": "716caee85d384ac7",
   "outputs": [],
   "execution_count": 3
  },
  {
   "metadata": {
    "ExecuteTime": {
     "end_time": "2024-08-27T10:30:08.590375Z",
     "start_time": "2024-08-27T10:30:08.581908Z"
    }
   },
   "cell_type": "code",
   "source": "mnist = tf.keras.datasets.mnist # el yazısı rakamları tanıma",
   "id": "466e42116b4501f2",
   "outputs": [],
   "execution_count": 4
  },
  {
   "metadata": {
    "ExecuteTime": {
     "end_time": "2024-08-27T10:30:08.666556Z",
     "start_time": "2024-08-27T10:30:08.595039Z"
    }
   },
   "cell_type": "code",
   "source": "(train_images, train_labels), (test_images, test_labels) = mnist.load_data()",
   "id": "d634c6ad249693d8",
   "outputs": [],
   "execution_count": 5
  },
  {
   "metadata": {
    "ExecuteTime": {
     "end_time": "2024-08-27T10:30:08.680277Z",
     "start_time": "2024-08-27T10:30:08.676511Z"
    }
   },
   "cell_type": "code",
   "source": "train_images.shape",
   "id": "5b37a438ceef580b",
   "outputs": [
    {
     "data": {
      "text/plain": [
       "(60000, 28, 28)"
      ]
     },
     "execution_count": 6,
     "metadata": {},
     "output_type": "execute_result"
    }
   ],
   "execution_count": 6
  },
  {
   "metadata": {
    "ExecuteTime": {
     "end_time": "2024-08-27T10:30:08.903297Z",
     "start_time": "2024-08-27T10:30:08.686642Z"
    }
   },
   "cell_type": "code",
   "source": "import matplotlib.pyplot as plt",
   "id": "9f396a3d7bbd93ec",
   "outputs": [],
   "execution_count": 7
  },
  {
   "metadata": {
    "ExecuteTime": {
     "end_time": "2024-08-27T10:30:08.980916Z",
     "start_time": "2024-08-27T10:30:08.909456Z"
    }
   },
   "cell_type": "code",
   "source": "plt.imshow(train_images[31], cmap='gray')",
   "id": "183677bc089ea363",
   "outputs": [
    {
     "data": {
      "text/plain": [
       "<matplotlib.image.AxesImage at 0x30f0922b0>"
      ]
     },
     "execution_count": 8,
     "metadata": {},
     "output_type": "execute_result"
    },
    {
     "data": {
      "text/plain": [
       "<Figure size 640x480 with 1 Axes>"
      ],
      "image/png": "[encoded data removed]"
     },
     "metadata": {},
     "output_type": "display_data"
    }
   ],
   "execution_count": 8
  },
  {
   "metadata": {
    "ExecuteTime": {
     "end_time": "2024-08-27T10:30:08.991483Z",
     "start_time": "2024-08-27T10:30:08.988393Z"
    }
   },
   "cell_type": "code",
   "source": "train_labels[4000]",
   "id": "55a8157ee3102a2a",
   "outputs": [
    {
     "data": {
      "text/plain": [
       "7"
      ]
     },
     "execution_count": 9,
     "metadata": {},
     "output_type": "execute_result"
    }
   ],
   "execution_count": 9
  },
  {
   "metadata": {},
   "cell_type": "markdown",
   "source": "Normalize Data",
   "id": "7e7b1cd3eb1a5dc9"
  },
  {
   "metadata": {
    "ExecuteTime": {
     "end_time": "2024-08-27T10:30:09.095489Z",
     "start_time": "2024-08-27T10:30:09.011594Z"
    }
   },
   "cell_type": "code",
   "source": [
    "train_images = train_images / 255.0\n",
    "test_images = test_images / 255.0"
   ],
   "id": "222c8659780da0c5",
   "outputs": [],
   "execution_count": 10
  },
  {
   "metadata": {
    "ExecuteTime": {
     "end_time": "2024-08-27T10:30:09.161705Z",
     "start_time": "2024-08-27T10:30:09.104218Z"
    }
   },
   "cell_type": "code",
   "source": "plt.imshow(train_images[31], cmap='gray')",
   "id": "9ddd5b0602793416",
   "outputs": [
    {
     "data": {
      "text/plain": [
       "<matplotlib.image.AxesImage at 0x30f1b0700>"
      ]
     },
     "execution_count": 11,
     "metadata": {},
     "output_type": "execute_result"
    },
    {
     "data": {
      "text/plain": [
       "<Figure size 640x480 with 1 Axes>"
      ],
      "image/png": "[encoded data removed]"
     },
     "metadata": {},
     "output_type": "display_data"
    }
   ],
   "execution_count": 11
  },
  {
   "metadata": {},
   "cell_type": "markdown",
   "source": "Convolutional Neural Networks - CNNs - Image Classification",
   "id": "50c52e3f731466f9"
  },
  {
   "metadata": {
    "ExecuteTime": {
     "end_time": "2024-08-27T10:30:09.183854Z",
     "start_time": "2024-08-27T10:30:09.179818Z"
    }
   },
   "cell_type": "code",
   "source": [
    "from tensorflow.keras.models import Sequential\n",
    "from tensorflow.keras.layers import Dense, Conv2D, InputLayer, Reshape, MaxPooling2D, Flatten, Dropout, BatchNormalization"
   ],
   "id": "3b9fd9b3cdc63b80",
   "outputs": [],
   "execution_count": 12
  },
  {
   "metadata": {
    "ExecuteTime": {
     "end_time": "2024-08-27T10:30:09.228179Z",
     "start_time": "2024-08-27T10:30:09.193307Z"
    }
   },
   "cell_type": "code",
   "source": [
    "model = Sequential()\n",
    "model.add(InputLayer(input_shape=(28, 28)))\n",
    "model.add(Reshape(target_shape=(28, 28, 1)))\n",
    "model.add(Conv2D(32, kernel_size=(3, 3), activation='relu'))\n",
    "model.add(MaxPooling2D(pool_size=(2, 2))) \n",
    "model.add(Flatten())\n",
    "model.add(Dense(10)) # 10 farklı cevap \n",
    "model.compile(loss=tf.keras.losses.SparseCategoricalCrossentropy(from_logits=True), optimizer='adam', metrics=['accuracy'])"
   ],
   "id": "ad9209e0636ae8f8",
   "outputs": [
    {
     "name": "stderr",
     "output_type": "stream",
     "text": [
      "/Users/egekibar/GitHub/ai-course/venv/lib/python3.9/site-packages/keras/src/layers/core/input_layer.py:26: UserWarning: Argument `input_shape` is deprecated. Use `shape` instead.\n",
      "  warnings.warn(\n"
     ]
    }
   ],
   "execution_count": 13
  },
  {
   "metadata": {
    "ExecuteTime": {
     "end_time": "2024-08-27T10:31:25.884788Z",
     "start_time": "2024-08-27T10:30:09.290436Z"
    }
   },
   "cell_type": "code",
   "source": "model.fit(train_images, train_labels, epochs=10, validation_split=.10)",
   "id": "e2bdaaca12168d84",
   "outputs": [
    {
     "name": "stdout",
     "output_type": "stream",
     "text": [
      "Epoch 1/10\n",
      "\u001B[1m1688/1688\u001B[0m \u001B[32m━━━━━━━━━━━━━━━━━━━━\u001B[0m\u001B[37m\u001B[0m \u001B[1m7s\u001B[0m 4ms/step - accuracy: 0.8754 - loss: 0.4415 - val_accuracy: 0.9747 - val_loss: 0.0896\n",
      "Epoch 2/10\n",
      "\u001B[1m1688/1688\u001B[0m \u001B[32m━━━━━━━━━━━━━━━━━━━━\u001B[0m\u001B[37m\u001B[0m \u001B[1m7s\u001B[0m 4ms/step - accuracy: 0.9735 - loss: 0.0912 - val_accuracy: 0.9782 - val_loss: 0.0732\n",
      "Epoch 3/10\n",
      "\u001B[1m1688/1688\u001B[0m \u001B[32m━━━━━━━━━━━━━━━━━━━━\u001B[0m\u001B[37m\u001B[0m \u001B[1m7s\u001B[0m 4ms/step - accuracy: 0.9819 - loss: 0.0629 - val_accuracy: 0.9833 - val_loss: 0.0615\n",
      "Epoch 4/10\n",
      "\u001B[1m1688/1688\u001B[0m \u001B[32m━━━━━━━━━━━━━━━━━━━━\u001B[0m\u001B[37m\u001B[0m \u001B[1m8s\u001B[0m 4ms/step - accuracy: 0.9857 - loss: 0.0477 - val_accuracy: 0.9843 - val_loss: 0.0534\n",
      "Epoch 5/10\n",
      "\u001B[1m1688/1688\u001B[0m \u001B[32m━━━━━━━━━━━━━━━━━━━━\u001B[0m\u001B[37m\u001B[0m \u001B[1m8s\u001B[0m 4ms/step - accuracy: 0.9873 - loss: 0.0393 - val_accuracy: 0.9857 - val_loss: 0.0530\n",
      "Epoch 6/10\n",
      "\u001B[1m1688/1688\u001B[0m \u001B[32m━━━━━━━━━━━━━━━━━━━━\u001B[0m\u001B[37m\u001B[0m \u001B[1m8s\u001B[0m 5ms/step - accuracy: 0.9892 - loss: 0.0351 - val_accuracy: 0.9852 - val_loss: 0.0539\n",
      "Epoch 7/10\n",
      "\u001B[1m1688/1688\u001B[0m \u001B[32m━━━━━━━━━━━━━━━━━━━━\u001B[0m\u001B[37m\u001B[0m \u001B[1m8s\u001B[0m 5ms/step - accuracy: 0.9920 - loss: 0.0279 - val_accuracy: 0.9835 - val_loss: 0.0601\n",
      "Epoch 8/10\n",
      "\u001B[1m1688/1688\u001B[0m \u001B[32m━━━━━━━━━━━━━━━━━━━━\u001B[0m\u001B[37m\u001B[0m \u001B[1m8s\u001B[0m 5ms/step - accuracy: 0.9925 - loss: 0.0241 - val_accuracy: 0.9868 - val_loss: 0.0522\n",
      "Epoch 9/10\n",
      "\u001B[1m1688/1688\u001B[0m \u001B[32m━━━━━━━━━━━━━━━━━━━━\u001B[0m\u001B[37m\u001B[0m \u001B[1m8s\u001B[0m 5ms/step - accuracy: 0.9938 - loss: 0.0210 - val_accuracy: 0.9862 - val_loss: 0.0537\n",
      "Epoch 10/10\n",
      "\u001B[1m1688/1688\u001B[0m \u001B[32m━━━━━━━━━━━━━━━━━━━━\u001B[0m\u001B[37m\u001B[0m \u001B[1m8s\u001B[0m 5ms/step - accuracy: 0.9950 - loss: 0.0183 - val_accuracy: 0.9838 - val_loss: 0.0589\n"
     ]
    },
    {
     "data": {
      "text/plain": [
       "<keras.src.callbacks.history.History at 0x31ec48f70>"
      ]
     },
     "execution_count": 14,
     "metadata": {},
     "output_type": "execute_result"
    }
   ],
   "execution_count": 14
  },
  {
   "metadata": {
    "ExecuteTime": {
     "end_time": "2024-08-27T10:31:26.472315Z",
     "start_time": "2024-08-27T10:31:25.950039Z"
    }
   },
   "cell_type": "code",
   "source": "loss, accuracy = model.evaluate(test_images, test_labels)",
   "id": "c22cc5590285a78c",
   "outputs": [
    {
     "name": "stdout",
     "output_type": "stream",
     "text": [
      "\u001B[1m313/313\u001B[0m \u001B[32m━━━━━━━━━━━━━━━━━━━━\u001B[0m\u001B[37m\u001B[0m \u001B[1m0s\u001B[0m 2ms/step - accuracy: 0.9787 - loss: 0.0726\n"
     ]
    }
   ],
   "execution_count": 15
  },
  {
   "metadata": {
    "ExecuteTime": {
     "end_time": "2024-08-27T10:31:26.481589Z",
     "start_time": "2024-08-27T10:31:26.479097Z"
    }
   },
   "cell_type": "code",
   "source": "accuracy",
   "id": "1773e26be42973f3",
   "outputs": [
    {
     "data": {
      "text/plain": [
       "0.9830999970436096"
      ]
     },
     "execution_count": 16,
     "metadata": {},
     "output_type": "execute_result"
    }
   ],
   "execution_count": 16
  },
  {
   "metadata": {
    "ExecuteTime": {
     "end_time": "2024-08-27T10:31:26.562811Z",
     "start_time": "2024-08-27T10:31:26.550836Z"
    }
   },
   "cell_type": "code",
   "source": "model.save(\"my_model.h5\")",
   "id": "d67767928ccba0e4",
   "outputs": [
    {
     "name": "stderr",
     "output_type": "stream",
     "text": [
      "WARNING:absl:You are saving your model as an HDF5 file via `model.save()` or `keras.saving.save_model(model)`. This file format is considered legacy. We recommend using instead the native Keras format, e.g. `model.save('my_model.keras')` or `keras.saving.save_model(model, 'my_model.keras')`. \n"
     ]
    }
   ],
   "execution_count": 17
  },
  {
   "metadata": {
    "ExecuteTime": {
     "end_time": "2024-08-27T10:31:26.621154Z",
     "start_time": "2024-08-27T10:31:26.619175Z"
    }
   },
   "cell_type": "code",
   "source": "# df = tf.keras.utils.image_dataset_from_directory('dataset') # toplu import ",
   "id": "b9adf601264ee9bf",
   "outputs": [],
   "execution_count": 18
  },
  {
   "metadata": {
    "ExecuteTime": {
     "end_time": "2024-08-27T10:31:26.796433Z",
     "start_time": "2024-08-27T10:31:26.769574Z"
    }
   },
   "cell_type": "code",
   "source": [
    "model = Sequential()\n",
    "model.add(InputLayer(input_shape=(28, 28)))\n",
    "model.add(Reshape(target_shape=(28, 28, 1)))\n",
    "model.add(Conv2D(32, kernel_size=(3, 3), activation='relu'))\n",
    "model.add(MaxPooling2D(pool_size=(2, 2))) \n",
    "model.add(Flatten())\n",
    "model.add(BatchNormalization())\n",
    "model.add(Dense(60))\n",
    "model.add(Dropout(.25))\n",
    "model.add(Dense(10)) # 10 farklı cevap \n",
    "model.compile(loss=tf.keras.losses.SparseCategoricalCrossentropy(from_logits=True), optimizer='adam', metrics=['accuracy'])"
   ],
   "id": "df22678b17a436b9",
   "outputs": [],
   "execution_count": 23
  },
  {
   "metadata": {},
   "cell_type": "markdown",
   "source": [
    "Başarı sayısını arttırma teknikleri;\n",
    "- Layer sayısını arttır\n",
    "- Neuron Sayısını arttır\n",
    "- Dropout Overfitingi engeller daha iyi öğrenmeye olanak sağlar"
   ],
   "id": "4bbeb25dbd98f9cc"
  }
 ],
 "metadata": {
  "kernelspec": {
   "display_name": "Python 3",
   "language": "python",
   "name": "python3"
  },
  "language_info": {
   "codemirror_mode": {
    "name": "ipython",
    "version": 2
   },
   "file_extension": ".py",
   "mimetype": "text/x-python",
   "name": "python",
   "nbconvert_exporter": "python",
   "pygments_lexer": "ipython2",
   "version": "2.7.6"
  }
 },
 "nbformat": 4,
 "nbformat_minor": 5
}
